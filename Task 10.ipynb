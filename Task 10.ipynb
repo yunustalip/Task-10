{
  "nbformat": 4,
  "nbformat_minor": 0,
  "metadata": {
    "colab": {
      "provenance": []
    },
    "kernelspec": {
      "name": "python3",
      "display_name": "Python 3"
    },
    "language_info": {
      "name": "python"
    }
  },
  "cells": [
    {
      "cell_type": "code",
      "execution_count": 20,
      "metadata": {
        "id": "PXL71fppnVcc"
      },
      "outputs": [],
      "source": [
        "import pandas as pd\n",
        "from sklearn.model_selection import train_test_split"
      ]
    },
    {
      "cell_type": "code",
      "source": [
        "data = pd.read_excel(r\"Temporary_data3_-_Copy.xlsx\")"
      ],
      "metadata": {
        "id": "hSdz8rOKn8lP"
      },
      "execution_count": 2,
      "outputs": []
    },
    {
      "cell_type": "code",
      "source": [
        "y = data[\"CDRGLOB\"]"
      ],
      "metadata": {
        "id": "wsI1LC0HpVRo"
      },
      "execution_count": 4,
      "outputs": []
    },
    {
      "cell_type": "code",
      "source": [
        "X_train, X_test, y_train, y_test = train_test_split(data, y, test_size=0.25, random_state=42)\n"
      ],
      "metadata": {
        "id": "2B0TS8yHoBCA"
      },
      "execution_count": 5,
      "outputs": []
    },
    {
      "cell_type": "code",
      "source": [
        "from sklearn.svm import SVC\n",
        "from sklearn.metrics import classification_report,confusion_matrix\n",
        "from sklearn.model_selection import GridSearchCV\n",
        "from sklearn.metrics import accuracy_score"
      ],
      "metadata": {
        "id": "vT47d3EDoTov"
      },
      "execution_count": 9,
      "outputs": []
    },
    {
      "cell_type": "code",
      "source": [
        "param_grid = {'C': [0.1,1, 10, 100], 'gamma': [1,0.1,0.01,0.001],'kernel': ['rbf', 'poly', 'sigmoid']}\n",
        "grid_cv = GridSearchCV(SVC(), param_grid, scoring=\"accuracy\", n_jobs=-1, cv=3)\n",
        "grid_cv.fit(X_train, y_train)\n",
        "print(\"Best Params\", grid_cv.best_params_)\n",
        "print(\"Best CV Score\", grid_cv.best_score_)\n",
        "print(f'Accuracy on Model 1 = {round(accuracy_score(y_test, grid_cv.predict(X_test)), 5)}')\n"
      ],
      "metadata": {
        "colab": {
          "base_uri": "https://localhost:8080/"
        },
        "id": "TppaXMiHohTL",
        "outputId": "8714e347-6fba-4c1e-9ba9-a028896949bf"
      },
      "execution_count": 17,
      "outputs": [
        {
          "output_type": "stream",
          "name": "stdout",
          "text": [
            "Best Params {'C': 0.1, 'gamma': 0.01, 'kernel': 'poly'}\n",
            "Best CV Score 0.9418611416569211\n",
            "Accuracy on Model 1 = 0.9646\n"
          ]
        }
      ]
    },
    {
      "cell_type": "code",
      "source": [
        "from sklearn.ensemble import RandomForestClassifier\n",
        "\n",
        "param_grid = { \n",
        "    'n_estimators': [200, 700],\n",
        "    'max_features': ['auto', 'sqrt', 'log2']\n",
        "}\n",
        "\n",
        "grid_cv2 = GridSearchCV(RandomForestClassifier(), param_grid, scoring=\"accuracy\", n_jobs=-1, cv=3)\n",
        "grid_cv2.fit(X_train, y_train)\n",
        "print(\"Best Params\", grid_cv2.best_params_)\n",
        "print(\"Best CV Score\", grid_cv2.best_score_)\n",
        "print(f'Accuracy on Model 2 = {round(accuracy_score(y_test, grid_cv2.predict(X_test)), 5)}')"
      ],
      "metadata": {
        "colab": {
          "base_uri": "https://localhost:8080/"
        },
        "id": "lM_JzvguqN6d",
        "outputId": "f8f5a3c7-2eb3-4d7c-a528-a0784e9a10df"
      },
      "execution_count": 18,
      "outputs": [
        {
          "output_type": "stream",
          "name": "stdout",
          "text": [
            "Best Params {'max_features': 'auto', 'n_estimators': 200}\n",
            "Best CV Score 0.9083654791619393\n",
            "Accuracy on Model 2 = 0.94985\n"
          ]
        }
      ]
    },
    {
      "cell_type": "code",
      "source": [
        "from sklearn.tree import DecisionTreeClassifier\n",
        "\n",
        "\n",
        "param_grid = {'max_features': ['auto', 'sqrt', 'log2'],\n",
        "              'ccp_alpha': [0.1, .01, .001],\n",
        "              'max_depth' : [5, 6, 7, 8, 9],\n",
        "              'criterion' :['gini', 'entropy']\n",
        "             }\n",
        "\n",
        "grid_cv3 = GridSearchCV(DecisionTreeClassifier(), param_grid, scoring=\"accuracy\", n_jobs=-1, cv=3)\n",
        "grid_cv3.fit(X_train, y_train)\n",
        "print(\"Best Params\", grid_cv3.best_params_)\n",
        "print(\"Best CV Score\", grid_cv3.best_score_)\n",
        "print(f'Accuracy on Model 3 = {round(accuracy_score(y_test, grid_cv3.predict(X_test)), 5)}')"
      ],
      "metadata": {
        "colab": {
          "base_uri": "https://localhost:8080/"
        },
        "id": "QclqooOUrks7",
        "outputId": "8e0c7115-206c-456d-94e0-bed032a410be"
      },
      "execution_count": 19,
      "outputs": [
        {
          "output_type": "stream",
          "name": "stdout",
          "text": [
            "Best Params {'ccp_alpha': 0.001, 'criterion': 'entropy', 'max_depth': 7, 'max_features': 'auto'}\n",
            "Best CV Score 0.815776765402361\n",
            "Accuracy on Model 3 = 0.63422\n"
          ]
        }
      ]
    },
    {
      "cell_type": "code",
      "source": [
        "from sklearn.metrics import classification_report\n",
        "y_true = [0, 1, 2, 2, 2]\n",
        "y_pred = [0, 0, 2, 2, 1]\n",
        "target_names = ['class 0', 'class 1', 'class 2']\n",
        "print(classification_report(y_true, y_pred, target_names=target_names))\n",
        "\n"
      ],
      "metadata": {
        "colab": {
          "base_uri": "https://localhost:8080/"
        },
        "id": "1_p0CNnBs4rD",
        "outputId": "f7cc694b-be7e-4ef8-a919-2304f38d2c95"
      },
      "execution_count": 15,
      "outputs": [
        {
          "output_type": "stream",
          "name": "stdout",
          "text": [
            "              precision    recall  f1-score   support\n",
            "\n",
            "     class 0       0.50      1.00      0.67         1\n",
            "     class 1       0.00      0.00      0.00         1\n",
            "     class 2       1.00      0.67      0.80         3\n",
            "\n",
            "    accuracy                           0.60         5\n",
            "   macro avg       0.50      0.56      0.49         5\n",
            "weighted avg       0.70      0.60      0.61         5\n",
            "\n"
          ]
        }
      ]
    }
  ]
}